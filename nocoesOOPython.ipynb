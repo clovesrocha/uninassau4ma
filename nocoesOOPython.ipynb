{
  "nbformat": 4,
  "nbformat_minor": 0,
  "metadata": {
    "colab": {
      "provenance": [],
      "authorship_tag": "ABX9TyOk3RFGZVZzHkRPf2gh10aZ",
      "include_colab_link": true
    },
    "kernelspec": {
      "name": "python3",
      "display_name": "Python 3"
    },
    "language_info": {
      "name": "python"
    }
  },
  "cells": [
    {
      "cell_type": "markdown",
      "metadata": {
        "id": "view-in-github",
        "colab_type": "text"
      },
      "source": [
        "<a href=\"https://colab.research.google.com/github/clovesrocha/uninassau4ma/blob/main/nocoesOOPython.ipynb\" target=\"_parent\"><img src=\"https://colab.research.google.com/assets/colab-badge.svg\" alt=\"Open In Colab\"/></a>"
      ]
    },
    {
      "cell_type": "code",
      "execution_count": 2,
      "metadata": {
        "id": "J8yHfnbsjAtU"
      },
      "outputs": [],
      "source": [
        "# UNINASSAU\n",
        "# DOCENTE: Cloves Rocha\n",
        "# ESTUDANTES: ...\n",
        "# Noções OO Python\n",
        "#Exemplo 1\n",
        "class Automovel:\n",
        "  def __init__(self, placa='xx-123'):\n",
        "    self.placa = placa\n",
        "  def get_placa(self):\n",
        "    return self.placa\n",
        "  def dirigir(self, velocidade):\n",
        "    print('Estou dirigindo a %d' / km/h % velocidade)"
      ]
    },
    {
      "cell_type": "code",
      "source": [
        "#Exemplo 2\n",
        "class Carro:\n",
        "  def __init__(self):\n",
        "    self.nrodas = 4\n",
        "  def set_nrodas(self, n):\n",
        "    self.nrodas = n\n",
        "gol = Carro()\n",
        "gol.nrodas\n",
        "\n",
        "gol.set_nrodas(2)\n",
        "gol.nrodas"
      ],
      "metadata": {
        "colab": {
          "base_uri": "https://localhost:8080/"
        },
        "id": "ehlk2goEk1Cw",
        "outputId": "db429a43-39fa-40c9-bd28-595f799413d3"
      },
      "execution_count": 10,
      "outputs": [
        {
          "output_type": "execute_result",
          "data": {
            "text/plain": [
              "2"
            ]
          },
          "metadata": {},
          "execution_count": 10
        }
      ]
    }
  ]
}