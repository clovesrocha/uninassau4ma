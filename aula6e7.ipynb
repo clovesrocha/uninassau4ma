{
  "nbformat": 4,
  "nbformat_minor": 0,
  "metadata": {
    "colab": {
      "provenance": []
    },
    "kernelspec": {
      "name": "python3",
      "display_name": "Python 3"
    },
    "language_info": {
      "name": "python"
    }
  },
  "cells": [
    {
      "cell_type": "code",
      "execution_count": 1,
      "metadata": {
        "colab": {
          "base_uri": "https://localhost:8080/"
        },
        "id": "_2SJd0ETLA-a",
        "outputId": "4c7be35d-f13b-4684-d96d-4cd11fa699fb"
      },
      "outputs": [
        {
          "output_type": "stream",
          "name": "stdout",
          "text": [
            "[181, 100, 40]\n"
          ]
        }
      ],
      "source": [
        "# UNINASSAU\n",
        "# DOCENTE: CLOVES ROCHA\n",
        "# CC/SI/EC - 4MA\n",
        "# 11. Um pouco de Álgebra Linear\n",
        "\n",
        "IMC = [181, # ALTURA\n",
        "       100, # PESO\n",
        "       40]  # IDADE\n",
        "print(IMC)"
      ]
    },
    {
      "cell_type": "code",
      "source": [
        "NOTAS = [10, # N1\n",
        "         9,  # N2\n",
        "         8,  # N3\n",
        "         4]  # N4\n",
        "print(NOTAS)"
      ],
      "metadata": {
        "colab": {
          "base_uri": "https://localhost:8080/"
        },
        "id": "vSFBmNy6Nb-X",
        "outputId": "4953b0d5-970a-4344-cdd4-c4394f1c40a6"
      },
      "execution_count": 3,
      "outputs": [
        {
          "output_type": "stream",
          "name": "stdout",
          "text": [
            "[10, 9, 8, 4]\n"
          ]
        }
      ]
    },
    {
      "cell_type": "code",
      "source": [
        "def vet_add(vet1, vet2):\n",
        "  #soma elementos correspondentes\n",
        "return [vet1_i + vet2_i\n",
        "      for vet1_i, vet2_i in zip(vet1, vet2)]"
      ],
      "metadata": {
        "id": "w76XS2KuN5X1"
      },
      "execution_count": null,
      "outputs": []
    },
    {
      "cell_type": "code",
      "source": [
        "def vet_sub(vet1, vet2):\n",
        "  #subtrair elementos correspondentes\n",
        "return [vet1_i - vet2_i\n",
        "        for vet1_i, vet2_i in zip(vet1, vet2)]"
      ],
      "metadata": {
        "id": "ftPILP5jP-Se"
      },
      "execution_count": null,
      "outputs": []
    },
    {
      "cell_type": "code",
      "source": [
        "def vet_soma(vets):\n",
        "# soma todos elementos correspondentes\n",
        "result = vets[0] # começa com o primeiro vetor\n",
        "for vet in vets[1:]: # depois passa por todos os outros\n",
        "  result = vet_add(result, vet) # e os adiciona ao resultado\n",
        "return result"
      ],
      "metadata": {
        "id": "kCk-sApJQxdX"
      },
      "execution_count": null,
      "outputs": []
    },
    {
      "cell_type": "code",
      "source": [
        "fila = [100, 101, 102, 103, 104]\n",
        "fila.append(105) # insere um elemento no final da fila\n",
        "fila.append(106)\n",
        "fila.append(107)\n",
        "fila.append(108)\n",
        "fila.append(109)\n",
        "fila.append(110)\n",
        "print(fila)"
      ],
      "metadata": {
        "colab": {
          "base_uri": "https://localhost:8080/"
        },
        "id": "MzwoDp0VTDXL",
        "outputId": "ae8eaa19-3542-4d77-93ec-3b3f7cd0968d"
      },
      "execution_count": 11,
      "outputs": [
        {
          "output_type": "stream",
          "name": "stdout",
          "text": [
            "[100, 101, 102, 103, 104, 105, 106, 107, 108, 109, 110]\n"
          ]
        }
      ]
    },
    {
      "cell_type": "code",
      "source": [
        "class Pessoa(object):\n",
        "  def __init__(self):\n",
        "    self.dados = []\n",
        "\n",
        "  def insere(self, elemento):\n",
        "    self.dados.append(elemento)\n",
        "\n",
        "  def retire(self):\n",
        "   return self.dados.pop(0)\n",
        "\n",
        "  def vazia(self):\n",
        "    return len(self.dados) == 0\n"
      ],
      "metadata": {
        "id": "s8GGWDIdWLWU"
      },
      "execution_count": null,
      "outputs": []
    },
    {
      "cell_type": "code",
      "source": [
        "# Revisar f ou format\n",
        "nome = str(input('Digite seu nome: ' ))\n",
        "print(f'Seu nome é {nome}.')"
      ],
      "metadata": {
        "colab": {
          "base_uri": "https://localhost:8080/"
        },
        "id": "yFLCQZG6SlNE",
        "outputId": "96a65686-06eb-47b6-d171-147337a065ef"
      },
      "execution_count": 15,
      "outputs": [
        {
          "output_type": "stream",
          "name": "stdout",
          "text": [
            "Digite seu nome: Rocha\n",
            "Seu nome é Rocha.\n"
          ]
        }
      ]
    }
  ]
}